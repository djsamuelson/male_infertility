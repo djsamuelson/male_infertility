{
 "cells": [
  {
   "cell_type": "markdown",
   "id": "b2046230",
   "metadata": {},
   "source": [
    "This notebook is the data analyis part of my CodeYou capstone project."
   ]
  },
  {
   "cell_type": "code",
   "execution_count": 268,
   "id": "a66b69f9",
   "metadata": {},
   "outputs": [],
   "source": [
    "import pandas as pd\n",
    "import numpy as np\n",
    "import matplotlib.pyplot as plt\n",
    "import seaborn as sns"
   ]
  },
  {
   "cell_type": "markdown",
   "id": "d92421a3",
   "metadata": {},
   "source": [
    "read data"
   ]
  },
  {
   "cell_type": "code",
   "execution_count": 36,
   "id": "c7766d60",
   "metadata": {},
   "outputs": [],
   "source": [
    "#USA male fertility (fert) and overall health (oh) relevant data selected from the NSFG_2022_2023 male respondents dataset\n",
    "df_fert_oh = pd.read_csv('../data/NSFG_2022_2023_male_fertility_data.csv', usecols=['CaseID',\n",
    "    'RSCRHISP', 'RSCRRACE', 'HISP', 'HISPGRP',\n",
    "    'YOUGOFPC', 'WHENGOFP', 'YOUFPSVC_1', 'YOUFPSVC_2', 'YOUFPSVC_3', 'YOUFPSVC_4', 'YOUFPSVC_5', 'YOUFPSVC_6', 'YOUFPSVC_7',\n",
    "    'VISION', 'HEARING', 'MOBILITY', 'COGNITION', 'SELFCARE','COMMUNIC', 'EVRCANCER', 'AGECANCER', 'ALCORISK',\n",
    "    'BLDPRESS', 'HIGHBP', 'BPMEDS', 'BPMON', 'BPMONFRQ',\n",
    "    'INFHELP', 'INFSVCS_1', 'INFSVCS_2', 'INFSVCS_3', 'INFSVCS_4', 'INFSVCS_5', 'INFSVCS_6',\n",
    "    'INFHLPNW', 'LASTHELP', 'INFRTHIS_1', 'INFRTHIS_2', 'INFRTHIS_3',\n",
    "    'GENHEALT', 'BMIcat', 'DRWEIGH', 'TELLWGHT',  \n",
    "    'SMK100', 'AGESMK', 'SMOKE30', 'DRINK12', 'BINGE12', 'POT12',\n",
    "    'AGER', 'HISPANIC','HISPRACE2','METRO'])\n",
    "#male fertility (fert) and stress \n",
    "df_fert_stress = pd.read_csv('../data/male_fertility_stress_DIB_dataset.csv')\n",
    "#male fertility related molecular data merged from visem data sets\n",
    "df_mol_sig = pd.read_csv('../data/male_fertility_mol_sig.csv')"
   ]
  },
  {
   "cell_type": "markdown",
   "id": "f08a0e3d",
   "metadata": {},
   "source": [
    "change categorical data to dtype 'category' and check "
   ]
  },
  {
   "cell_type": "code",
   "execution_count": 42,
   "id": "6ae84524",
   "metadata": {},
   "outputs": [],
   "source": [
    "df_fert_oh[['RSCRHISP', 'RSCRRACE', 'HISP', 'HISPGRP',\n",
    "    'YOUGOFPC', 'WHENGOFP', 'YOUFPSVC_1', 'YOUFPSVC_2', 'YOUFPSVC_3',\n",
    "    'YOUFPSVC_4', 'YOUFPSVC_5', 'YOUFPSVC_6', 'YOUFPSVC_7',\n",
    "    'VISION', 'HEARING', 'MOBILITY', 'COGNITION', 'SELFCARE','COMMUNIC',\n",
    "    'EVRCANCER', 'AGECANCER', 'ALCORISK',\n",
    "    'BLDPRESS', 'HIGHBP', 'BPMEDS', 'BPMON', 'BPMONFRQ',\n",
    "    'INFHELP', 'INFSVCS_1', 'INFSVCS_2', 'INFSVCS_3', 'INFSVCS_4', 'INFSVCS_5', 'INFSVCS_6',\n",
    "    'INFHLPNW', 'LASTHELP', 'INFRTHIS_1', 'INFRTHIS_2', 'INFRTHIS_3',\n",
    "    'GENHEALT', 'BMIcat', 'DRWEIGH', 'TELLWGHT',  \n",
    "    'SMK100', 'SMOKE30', 'DRINK12', 'BINGE12', 'POT12',\n",
    "    'HISPANIC','HISPRACE2','METRO']] = df_fert_oh[['RSCRHISP', 'RSCRRACE', 'HISP', 'HISPGRP',\n",
    "    'YOUGOFPC', 'WHENGOFP', 'YOUFPSVC_1', 'YOUFPSVC_2', 'YOUFPSVC_3',\n",
    "    'YOUFPSVC_4', 'YOUFPSVC_5', 'YOUFPSVC_6', 'YOUFPSVC_7',\n",
    "    'VISION', 'HEARING', 'MOBILITY', 'COGNITION', 'SELFCARE','COMMUNIC',\n",
    "    'EVRCANCER', 'AGECANCER', 'ALCORISK',\n",
    "    'BLDPRESS', 'HIGHBP', 'BPMEDS', 'BPMON', 'BPMONFRQ',\n",
    "    'INFHELP', 'INFSVCS_1', 'INFSVCS_2', 'INFSVCS_3', 'INFSVCS_4', 'INFSVCS_5', 'INFSVCS_6',\n",
    "    'INFHLPNW', 'LASTHELP', 'INFRTHIS_1', 'INFRTHIS_2', 'INFRTHIS_3',\n",
    "    'GENHEALT', 'BMIcat', 'DRWEIGH', 'TELLWGHT',  \n",
    "    'SMK100', 'SMOKE30', 'DRINK12', 'BINGE12', 'POT12',\n",
    "    'HISPANIC','HISPRACE2','METRO']].astype('category')"
   ]
  },
  {
   "cell_type": "code",
   "execution_count": 44,
   "id": "ec7ad8b1",
   "metadata": {},
   "outputs": [
    {
     "name": "stdout",
     "output_type": "stream",
     "text": [
      "(4371, 54)\n"
     ]
    },
    {
     "data": {
      "application/vnd.microsoft.datawrangler.viewer.v0+json": {
       "columns": [
        {
         "name": "index",
         "rawType": "object",
         "type": "string"
        },
        {
         "name": "0",
         "rawType": "object",
         "type": "unknown"
        }
       ],
       "ref": "c87143b1-c94e-4b88-8e2a-3f05fe81aaa1",
       "rows": [
        [
         "CaseID",
         "int64"
        ],
        [
         "RSCRHISP",
         "category"
        ],
        [
         "RSCRRACE",
         "category"
        ],
        [
         "HISP",
         "category"
        ],
        [
         "HISPGRP",
         "category"
        ],
        [
         "YOUGOFPC",
         "category"
        ],
        [
         "WHENGOFP",
         "category"
        ],
        [
         "YOUFPSVC_1",
         "category"
        ],
        [
         "YOUFPSVC_2",
         "category"
        ],
        [
         "YOUFPSVC_3",
         "category"
        ],
        [
         "YOUFPSVC_4",
         "category"
        ],
        [
         "YOUFPSVC_5",
         "category"
        ],
        [
         "YOUFPSVC_6",
         "category"
        ],
        [
         "YOUFPSVC_7",
         "category"
        ],
        [
         "VISION",
         "category"
        ],
        [
         "HEARING",
         "category"
        ],
        [
         "MOBILITY",
         "category"
        ],
        [
         "COGNITION",
         "category"
        ],
        [
         "SELFCARE",
         "category"
        ],
        [
         "COMMUNIC",
         "category"
        ],
        [
         "EVRCANCER",
         "category"
        ],
        [
         "AGECANCER",
         "category"
        ],
        [
         "ALCORISK",
         "category"
        ],
        [
         "BLDPRESS",
         "category"
        ],
        [
         "HIGHBP",
         "category"
        ],
        [
         "BPMEDS",
         "category"
        ],
        [
         "BPMON",
         "category"
        ],
        [
         "BPMONFRQ",
         "category"
        ],
        [
         "INFHELP",
         "category"
        ],
        [
         "INFSVCS_1",
         "category"
        ],
        [
         "INFSVCS_2",
         "category"
        ],
        [
         "INFSVCS_3",
         "category"
        ],
        [
         "INFSVCS_4",
         "category"
        ],
        [
         "INFSVCS_5",
         "category"
        ],
        [
         "INFSVCS_6",
         "category"
        ],
        [
         "INFHLPNW",
         "category"
        ],
        [
         "LASTHELP",
         "category"
        ],
        [
         "INFRTHIS_1",
         "category"
        ],
        [
         "INFRTHIS_2",
         "category"
        ],
        [
         "INFRTHIS_3",
         "category"
        ],
        [
         "GENHEALT",
         "category"
        ],
        [
         "BMIcat",
         "category"
        ],
        [
         "DRWEIGH",
         "category"
        ],
        [
         "TELLWGHT",
         "category"
        ],
        [
         "SMK100",
         "category"
        ],
        [
         "AGESMK",
         "float64"
        ],
        [
         "SMOKE30",
         "category"
        ],
        [
         "DRINK12",
         "category"
        ],
        [
         "BINGE12",
         "category"
        ],
        [
         "POT12",
         "category"
        ]
       ],
       "shape": {
        "columns": 1,
        "rows": 54
       }
      },
      "text/plain": [
       "CaseID           int64\n",
       "RSCRHISP      category\n",
       "RSCRRACE      category\n",
       "HISP          category\n",
       "HISPGRP       category\n",
       "YOUGOFPC      category\n",
       "WHENGOFP      category\n",
       "YOUFPSVC_1    category\n",
       "YOUFPSVC_2    category\n",
       "YOUFPSVC_3    category\n",
       "YOUFPSVC_4    category\n",
       "YOUFPSVC_5    category\n",
       "YOUFPSVC_6    category\n",
       "YOUFPSVC_7    category\n",
       "VISION        category\n",
       "HEARING       category\n",
       "MOBILITY      category\n",
       "COGNITION     category\n",
       "SELFCARE      category\n",
       "COMMUNIC      category\n",
       "EVRCANCER     category\n",
       "AGECANCER     category\n",
       "ALCORISK      category\n",
       "BLDPRESS      category\n",
       "HIGHBP        category\n",
       "BPMEDS        category\n",
       "BPMON         category\n",
       "BPMONFRQ      category\n",
       "INFHELP       category\n",
       "INFSVCS_1     category\n",
       "INFSVCS_2     category\n",
       "INFSVCS_3     category\n",
       "INFSVCS_4     category\n",
       "INFSVCS_5     category\n",
       "INFSVCS_6     category\n",
       "INFHLPNW      category\n",
       "LASTHELP      category\n",
       "INFRTHIS_1    category\n",
       "INFRTHIS_2    category\n",
       "INFRTHIS_3    category\n",
       "GENHEALT      category\n",
       "BMIcat        category\n",
       "DRWEIGH       category\n",
       "TELLWGHT      category\n",
       "SMK100        category\n",
       "AGESMK         float64\n",
       "SMOKE30       category\n",
       "DRINK12       category\n",
       "BINGE12       category\n",
       "POT12         category\n",
       "AGER             int64\n",
       "HISPANIC      category\n",
       "HISPRACE2     category\n",
       "METRO         category\n",
       "dtype: object"
      ]
     },
     "execution_count": 44,
     "metadata": {},
     "output_type": "execute_result"
    }
   ],
   "source": [
    "print(df_fert_oh.shape)\n",
    "df_fert_oh.dtypes"
   ]
  },
  {
   "cell_type": "code",
   "execution_count": 55,
   "id": "dc45d685",
   "metadata": {},
   "outputs": [
    {
     "data": {
      "text/plain": [
       "Text(0.5, 9.444444444444438, 'Respondent Age')"
      ]
     },
     "execution_count": 55,
     "metadata": {},
     "output_type": "execute_result"
    },
    {
     "data": {
      "text/plain": [
       "<Figure size 300x300 with 0 Axes>"
      ]
     },
     "metadata": {},
     "output_type": "display_data"
    },
    {
     "data": {
      "image/png": "[encoded data removed]",
      "text/plain": [
       "<Figure size 500x500 with 1 Axes>"
      ]
     },
     "metadata": {},
     "output_type": "display_data"
    }
   ],
   "source": [
    "# Check the distribution of respondent ages\n",
    "plt.figure(figsize=(3, 3))\n",
    "sns.displot(df_fert_oh['AGER'], kde=True, bins=35)\n",
    "plt.xlabel('Respondent Age')\n",
    "#sns.countplot(df_fert_oh['INFHELP'])\n",
    "\n"
   ]
  },
  {
   "cell_type": "code",
   "execution_count": 75,
   "id": "9151a796",
   "metadata": {},
   "outputs": [
    {
     "name": "stderr",
     "output_type": "stream",
     "text": [
      "C:\\Users\\david\\AppData\\Local\\Temp\\ipykernel_31068\\4199932535.py:3: UserWarning: set_ticklabels() should only be used with a fixed number of ticks, i.e. after set_ticks() or using a FixedLocator.\n",
      "  ax.set_xticklabels(['Yes', 'No', 'Not ascertained', 'Refused', 'Uknown', 'Not applicable'], rotation=45, ha='right')\n"
     ]
    },
    {
     "data": {
      "text/plain": [
       "Text(0.5, 0, '')"
      ]
     },
     "execution_count": 75,
     "metadata": {},
     "output_type": "execute_result"
    },
    {
     "data": {
      "image/png": "[encoded data removed]",
      "text/plain": [
       "<Figure size 300x400 with 1 Axes>"
      ]
     },
     "metadata": {},
     "output_type": "display_data"
    }
   ],
   "source": [
    "plt.figure(figsize=(3, 4))\n",
    "ax = sns.countplot(data=df_fert_oh, x='INFHELP')\n",
    "ax.set_xticklabels(['Yes', 'No', 'Not ascertained', 'Refused', 'Uknown', 'Not applicable'], rotation=45, ha='right')\n",
    "plt.title('Distribution of Sexually Active Respondents Age 18 or Older Receiving Infertility Services')\n",
    "plt.ylabel('Number of Respondents')\n",
    "plt.xlabel(None)\n"
   ]
  },
  {
   "cell_type": "markdown",
   "id": "aaad8c35",
   "metadata": {},
   "source": [
    "make a df named df_infhelp by filtering df_fert_oh for respondents that indicated 'yes'='1' OR 'no'=5 to INFHELP. This will be a proxy for infertility status. INFHELP"
   ]
  },
  {
   "cell_type": "code",
   "execution_count": 215,
   "id": "fcd6dd8e",
   "metadata": {},
   "outputs": [
    {
     "name": "stdout",
     "output_type": "stream",
     "text": [
      "(3806, 55)\n",
      "category\n"
     ]
    },
    {
     "data": {
      "application/vnd.microsoft.datawrangler.viewer.v0+json": {
       "columns": [
        {
         "name": "infertile",
         "rawType": "object",
         "type": "string"
        },
        {
         "name": "CaseID",
         "rawType": "int64",
         "type": "integer"
        },
        {
         "name": "RSCRHISP",
         "rawType": "int64",
         "type": "integer"
        },
        {
         "name": "RSCRRACE",
         "rawType": "int64",
         "type": "integer"
        },
        {
         "name": "HISP",
         "rawType": "int64",
         "type": "integer"
        },
        {
         "name": "HISPGRP",
         "rawType": "int64",
         "type": "integer"
        },
        {
         "name": "YOUGOFPC",
         "rawType": "int64",
         "type": "integer"
        },
        {
         "name": "WHENGOFP",
         "rawType": "int64",
         "type": "integer"
        },
        {
         "name": "YOUFPSVC_1",
         "rawType": "int64",
         "type": "integer"
        },
        {
         "name": "YOUFPSVC_2",
         "rawType": "int64",
         "type": "integer"
        },
        {
         "name": "YOUFPSVC_3",
         "rawType": "int64",
         "type": "integer"
        },
        {
         "name": "YOUFPSVC_4",
         "rawType": "int64",
         "type": "integer"
        },
        {
         "name": "YOUFPSVC_5",
         "rawType": "int64",
         "type": "integer"
        },
        {
         "name": "YOUFPSVC_6",
         "rawType": "int64",
         "type": "integer"
        },
        {
         "name": "YOUFPSVC_7",
         "rawType": "int64",
         "type": "integer"
        },
        {
         "name": "VISION",
         "rawType": "int64",
         "type": "integer"
        },
        {
         "name": "HEARING",
         "rawType": "int64",
         "type": "integer"
        },
        {
         "name": "MOBILITY",
         "rawType": "int64",
         "type": "integer"
        },
        {
         "name": "COGNITION",
         "rawType": "int64",
         "type": "integer"
        },
        {
         "name": "SELFCARE",
         "rawType": "int64",
         "type": "integer"
        },
        {
         "name": "COMMUNIC",
         "rawType": "int64",
         "type": "integer"
        },
        {
         "name": "EVRCANCER",
         "rawType": "int64",
         "type": "integer"
        },
        {
         "name": "AGECANCER",
         "rawType": "int64",
         "type": "integer"
        },
        {
         "name": "ALCORISK",
         "rawType": "int64",
         "type": "integer"
        },
        {
         "name": "BLDPRESS",
         "rawType": "int64",
         "type": "integer"
        },
        {
         "name": "HIGHBP",
         "rawType": "int64",
         "type": "integer"
        },
        {
         "name": "BPMEDS",
         "rawType": "int64",
         "type": "integer"
        },
        {
         "name": "BPMON",
         "rawType": "int64",
         "type": "integer"
        },
        {
         "name": "BPMONFRQ",
         "rawType": "int64",
         "type": "integer"
        },
        {
         "name": "INFHELP",
         "rawType": "int64",
         "type": "integer"
        },
        {
         "name": "INFSVCS_1",
         "rawType": "int64",
         "type": "integer"
        },
        {
         "name": "INFSVCS_2",
         "rawType": "int64",
         "type": "integer"
        },
        {
         "name": "INFSVCS_3",
         "rawType": "int64",
         "type": "integer"
        },
        {
         "name": "INFSVCS_4",
         "rawType": "int64",
         "type": "integer"
        },
        {
         "name": "INFSVCS_5",
         "rawType": "int64",
         "type": "integer"
        },
        {
         "name": "INFSVCS_6",
         "rawType": "int64",
         "type": "integer"
        },
        {
         "name": "INFHLPNW",
         "rawType": "int64",
         "type": "integer"
        },
        {
         "name": "LASTHELP",
         "rawType": "int64",
         "type": "integer"
        },
        {
         "name": "INFRTHIS_1",
         "rawType": "int64",
         "type": "integer"
        },
        {
         "name": "INFRTHIS_2",
         "rawType": "int64",
         "type": "integer"
        },
        {
         "name": "INFRTHIS_3",
         "rawType": "int64",
         "type": "integer"
        },
        {
         "name": "GENHEALT",
         "rawType": "int64",
         "type": "integer"
        },
        {
         "name": "BMIcat",
         "rawType": "int64",
         "type": "integer"
        },
        {
         "name": "DRWEIGH",
         "rawType": "int64",
         "type": "integer"
        },
        {
         "name": "TELLWGHT",
         "rawType": "int64",
         "type": "integer"
        },
        {
         "name": "SMK100",
         "rawType": "int64",
         "type": "integer"
        },
        {
         "name": "AGESMK",
         "rawType": "int64",
         "type": "integer"
        },
        {
         "name": "SMOKE30",
         "rawType": "int64",
         "type": "integer"
        },
        {
         "name": "DRINK12",
         "rawType": "int64",
         "type": "integer"
        },
        {
         "name": "BINGE12",
         "rawType": "int64",
         "type": "integer"
        },
        {
         "name": "POT12",
         "rawType": "int64",
         "type": "integer"
        },
        {
         "name": "AGER",
         "rawType": "int64",
         "type": "integer"
        },
        {
         "name": "HISPANIC",
         "rawType": "int64",
         "type": "integer"
        },
        {
         "name": "HISPRACE2",
         "rawType": "int64",
         "type": "integer"
        },
        {
         "name": "METRO",
         "rawType": "int64",
         "type": "integer"
        }
       ],
       "ref": "8ada3581-cd5c-4f5c-9d77-9cf459ca3a45",
       "rows": [
        [
         "no",
         "3578",
         "3577",
         "3578",
         "3578",
         "701",
         "3578",
         "238",
         "44",
         "19",
         "12",
         "6",
         "5",
         "3",
         "1",
         "3578",
         "3578",
         "3578",
         "3578",
         "3578",
         "3578",
         "3578",
         "57",
         "3578",
         "3578",
         "2382",
         "432",
         "432",
         "244",
         "3578",
         "0",
         "0",
         "0",
         "0",
         "0",
         "0",
         "0",
         "0",
         "0",
         "0",
         "0",
         "3577",
         "3259",
         "3576",
         "2269",
         "3573",
         "1134",
         "1134",
         "3572",
         "2725",
         "3572",
         "3578",
         "3578",
         "3578",
         "3578"
        ],
        [
         "yes",
         "228",
         "228",
         "228",
         "228",
         "38",
         "228",
         "29",
         "7",
         "2",
         "0",
         "0",
         "0",
         "0",
         "0",
         "228",
         "228",
         "228",
         "228",
         "228",
         "228",
         "228",
         "11",
         "228",
         "228",
         "180",
         "37",
         "37",
         "19",
         "228",
         "228",
         "127",
         "82",
         "49",
         "14",
         "1",
         "192",
         "228",
         "228",
         "8",
         "1",
         "226",
         "225",
         "226",
         "164",
         "226",
         "75",
         "75",
         "226",
         "187",
         "226",
         "228",
         "228",
         "228",
         "228"
        ]
       ],
       "shape": {
        "columns": 54,
        "rows": 2
       }
      },
      "text/html": [
       "<div>\n",
       "<style scoped>\n",
       "    .dataframe tbody tr th:only-of-type {\n",
       "        vertical-align: middle;\n",
       "    }\n",
       "\n",
       "    .dataframe tbody tr th {\n",
       "        vertical-align: top;\n",
       "    }\n",
       "\n",
       "    .dataframe thead th {\n",
       "        text-align: right;\n",
       "    }\n",
       "</style>\n",
       "<table border=\"1\" class=\"dataframe\">\n",
       "  <thead>\n",
       "    <tr style=\"text-align: right;\">\n",
       "      <th></th>\n",
       "      <th>CaseID</th>\n",
       "      <th>RSCRHISP</th>\n",
       "      <th>RSCRRACE</th>\n",
       "      <th>HISP</th>\n",
       "      <th>HISPGRP</th>\n",
       "      <th>YOUGOFPC</th>\n",
       "      <th>WHENGOFP</th>\n",
       "      <th>YOUFPSVC_1</th>\n",
       "      <th>YOUFPSVC_2</th>\n",
       "      <th>YOUFPSVC_3</th>\n",
       "      <th>...</th>\n",
       "      <th>SMK100</th>\n",
       "      <th>AGESMK</th>\n",
       "      <th>SMOKE30</th>\n",
       "      <th>DRINK12</th>\n",
       "      <th>BINGE12</th>\n",
       "      <th>POT12</th>\n",
       "      <th>AGER</th>\n",
       "      <th>HISPANIC</th>\n",
       "      <th>HISPRACE2</th>\n",
       "      <th>METRO</th>\n",
       "    </tr>\n",
       "    <tr>\n",
       "      <th>infertile</th>\n",
       "      <th></th>\n",
       "      <th></th>\n",
       "      <th></th>\n",
       "      <th></th>\n",
       "      <th></th>\n",
       "      <th></th>\n",
       "      <th></th>\n",
       "      <th></th>\n",
       "      <th></th>\n",
       "      <th></th>\n",
       "      <th></th>\n",
       "      <th></th>\n",
       "      <th></th>\n",
       "      <th></th>\n",
       "      <th></th>\n",
       "      <th></th>\n",
       "      <th></th>\n",
       "      <th></th>\n",
       "      <th></th>\n",
       "      <th></th>\n",
       "      <th></th>\n",
       "    </tr>\n",
       "  </thead>\n",
       "  <tbody>\n",
       "    <tr>\n",
       "      <th>no</th>\n",
       "      <td>3578</td>\n",
       "      <td>3577</td>\n",
       "      <td>3578</td>\n",
       "      <td>3578</td>\n",
       "      <td>701</td>\n",
       "      <td>3578</td>\n",
       "      <td>238</td>\n",
       "      <td>44</td>\n",
       "      <td>19</td>\n",
       "      <td>12</td>\n",
       "      <td>...</td>\n",
       "      <td>3573</td>\n",
       "      <td>1134</td>\n",
       "      <td>1134</td>\n",
       "      <td>3572</td>\n",
       "      <td>2725</td>\n",
       "      <td>3572</td>\n",
       "      <td>3578</td>\n",
       "      <td>3578</td>\n",
       "      <td>3578</td>\n",
       "      <td>3578</td>\n",
       "    </tr>\n",
       "    <tr>\n",
       "      <th>yes</th>\n",
       "      <td>228</td>\n",
       "      <td>228</td>\n",
       "      <td>228</td>\n",
       "      <td>228</td>\n",
       "      <td>38</td>\n",
       "      <td>228</td>\n",
       "      <td>29</td>\n",
       "      <td>7</td>\n",
       "      <td>2</td>\n",
       "      <td>0</td>\n",
       "      <td>...</td>\n",
       "      <td>226</td>\n",
       "      <td>75</td>\n",
       "      <td>75</td>\n",
       "      <td>226</td>\n",
       "      <td>187</td>\n",
       "      <td>226</td>\n",
       "      <td>228</td>\n",
       "      <td>228</td>\n",
       "      <td>228</td>\n",
       "      <td>228</td>\n",
       "    </tr>\n",
       "  </tbody>\n",
       "</table>\n",
       "<p>2 rows × 54 columns</p>\n",
       "</div>"
      ],
      "text/plain": [
       "           CaseID  RSCRHISP  RSCRRACE  HISP  HISPGRP  YOUGOFPC  WHENGOFP  \\\n",
       "infertile                                                                  \n",
       "no           3578      3577      3578  3578      701      3578       238   \n",
       "yes           228       228       228   228       38       228        29   \n",
       "\n",
       "           YOUFPSVC_1  YOUFPSVC_2  YOUFPSVC_3  ...  SMK100  AGESMK  SMOKE30  \\\n",
       "infertile                                      ...                            \n",
       "no                 44          19          12  ...    3573    1134     1134   \n",
       "yes                 7           2           0  ...     226      75       75   \n",
       "\n",
       "           DRINK12  BINGE12  POT12  AGER  HISPANIC  HISPRACE2  METRO  \n",
       "infertile                                                             \n",
       "no            3572     2725   3572  3578      3578       3578   3578  \n",
       "yes            226      187    226   228       228        228    228  \n",
       "\n",
       "[2 rows x 54 columns]"
      ]
     },
     "execution_count": 215,
     "metadata": {},
     "output_type": "execute_result"
    }
   ],
   "source": [
    "df_infhelp = df_fert_oh[df_fert_oh['INFHELP'].isin([1.0, 5.0])].copy().reset_index(drop=True)\n",
    "df_infhelp['infertile'] = ['yes' if x == 1.0 else 'no' for x in df_infhelp['INFHELP']]\n",
    "print(df_infhelp.shape)\n",
    "print(df_infhelp['INFHELP'].dtypes)\n",
    "df_infhelp.groupby('infertile').count()\n"
   ]
  },
  {
   "cell_type": "markdown",
   "id": "a83b610a",
   "metadata": {},
   "source": [
    "group df_infhelp by infertility status, 'infertile', and return stats for health variables"
   ]
  },
  {
   "cell_type": "code",
   "execution_count": 218,
   "id": "4b06e748",
   "metadata": {},
   "outputs": [
    {
     "data": {
      "application/vnd.microsoft.datawrangler.viewer.v0+json": {
       "columns": [
        {
         "name": "index",
         "rawType": "int64",
         "type": "integer"
        },
        {
         "name": "('infertile', '')",
         "rawType": "object",
         "type": "string"
        },
        {
         "name": "('INFHELP', 'count')",
         "rawType": "int64",
         "type": "integer"
        },
        {
         "name": "('INFHELP', 'nunique')",
         "rawType": "int64",
         "type": "integer"
        },
        {
         "name": "('GENHEALT', 'count')",
         "rawType": "int64",
         "type": "integer"
        },
        {
         "name": "('GENHEALT', 'nunique')",
         "rawType": "int64",
         "type": "integer"
        },
        {
         "name": "('BMIcat', 'count')",
         "rawType": "int64",
         "type": "integer"
        },
        {
         "name": "('BMIcat', 'nunique')",
         "rawType": "int64",
         "type": "integer"
        },
        {
         "name": "('EVRCANCER', 'count')",
         "rawType": "int64",
         "type": "integer"
        },
        {
         "name": "('EVRCANCER', 'nunique')",
         "rawType": "int64",
         "type": "integer"
        },
        {
         "name": "('AGECANCER', 'count')",
         "rawType": "int64",
         "type": "integer"
        },
        {
         "name": "('AGECANCER', 'nunique')",
         "rawType": "int64",
         "type": "integer"
        },
        {
         "name": "('HIGHBP', 'count')",
         "rawType": "int64",
         "type": "integer"
        },
        {
         "name": "('HIGHBP', 'nunique')",
         "rawType": "int64",
         "type": "integer"
        },
        {
         "name": "('MOBILITY', 'count')",
         "rawType": "int64",
         "type": "integer"
        },
        {
         "name": "('MOBILITY', 'nunique')",
         "rawType": "int64",
         "type": "integer"
        },
        {
         "name": "('SELFCARE', 'count')",
         "rawType": "int64",
         "type": "integer"
        },
        {
         "name": "('SELFCARE', 'nunique')",
         "rawType": "int64",
         "type": "integer"
        },
        {
         "name": "('VISION', 'count')",
         "rawType": "int64",
         "type": "integer"
        },
        {
         "name": "('VISION', 'nunique')",
         "rawType": "int64",
         "type": "integer"
        },
        {
         "name": "('HEARING', 'count')",
         "rawType": "int64",
         "type": "integer"
        },
        {
         "name": "('HEARING', 'nunique')",
         "rawType": "int64",
         "type": "integer"
        }
       ],
       "ref": "2d40b473-234e-4def-84b4-21bac78dc2d4",
       "rows": [
        [
         "0",
         "no",
         "3578",
         "1",
         "3577",
         "7",
         "3259",
         "5",
         "3578",
         "4",
         "57",
         "23",
         "2382",
         "5",
         "3578",
         "5",
         "3578",
         "6",
         "3578",
         "6",
         "3578",
         "6"
        ],
        [
         "1",
         "yes",
         "228",
         "1",
         "226",
         "5",
         "225",
         "5",
         "228",
         "2",
         "11",
         "8",
         "180",
         "4",
         "228",
         "5",
         "228",
         "4",
         "228",
         "4",
         "228",
         "4"
        ]
       ],
       "shape": {
        "columns": 21,
        "rows": 2
       }
      },
      "text/html": [
       "<div>\n",
       "<style scoped>\n",
       "    .dataframe tbody tr th:only-of-type {\n",
       "        vertical-align: middle;\n",
       "    }\n",
       "\n",
       "    .dataframe tbody tr th {\n",
       "        vertical-align: top;\n",
       "    }\n",
       "\n",
       "    .dataframe thead tr th {\n",
       "        text-align: left;\n",
       "    }\n",
       "</style>\n",
       "<table border=\"1\" class=\"dataframe\">\n",
       "  <thead>\n",
       "    <tr>\n",
       "      <th></th>\n",
       "      <th>infertile</th>\n",
       "      <th colspan=\"2\" halign=\"left\">INFHELP</th>\n",
       "      <th colspan=\"2\" halign=\"left\">GENHEALT</th>\n",
       "      <th colspan=\"2\" halign=\"left\">BMIcat</th>\n",
       "      <th colspan=\"2\" halign=\"left\">EVRCANCER</th>\n",
       "      <th>AGECANCER</th>\n",
       "      <th>...</th>\n",
       "      <th colspan=\"2\" halign=\"left\">HIGHBP</th>\n",
       "      <th colspan=\"2\" halign=\"left\">MOBILITY</th>\n",
       "      <th colspan=\"2\" halign=\"left\">SELFCARE</th>\n",
       "      <th colspan=\"2\" halign=\"left\">VISION</th>\n",
       "      <th colspan=\"2\" halign=\"left\">HEARING</th>\n",
       "    </tr>\n",
       "    <tr>\n",
       "      <th></th>\n",
       "      <th></th>\n",
       "      <th>count</th>\n",
       "      <th>nunique</th>\n",
       "      <th>count</th>\n",
       "      <th>nunique</th>\n",
       "      <th>count</th>\n",
       "      <th>nunique</th>\n",
       "      <th>count</th>\n",
       "      <th>nunique</th>\n",
       "      <th>count</th>\n",
       "      <th>...</th>\n",
       "      <th>count</th>\n",
       "      <th>nunique</th>\n",
       "      <th>count</th>\n",
       "      <th>nunique</th>\n",
       "      <th>count</th>\n",
       "      <th>nunique</th>\n",
       "      <th>count</th>\n",
       "      <th>nunique</th>\n",
       "      <th>count</th>\n",
       "      <th>nunique</th>\n",
       "    </tr>\n",
       "  </thead>\n",
       "  <tbody>\n",
       "    <tr>\n",
       "      <th>0</th>\n",
       "      <td>no</td>\n",
       "      <td>3578</td>\n",
       "      <td>1</td>\n",
       "      <td>3577</td>\n",
       "      <td>7</td>\n",
       "      <td>3259</td>\n",
       "      <td>5</td>\n",
       "      <td>3578</td>\n",
       "      <td>4</td>\n",
       "      <td>57</td>\n",
       "      <td>...</td>\n",
       "      <td>2382</td>\n",
       "      <td>5</td>\n",
       "      <td>3578</td>\n",
       "      <td>5</td>\n",
       "      <td>3578</td>\n",
       "      <td>6</td>\n",
       "      <td>3578</td>\n",
       "      <td>6</td>\n",
       "      <td>3578</td>\n",
       "      <td>6</td>\n",
       "    </tr>\n",
       "    <tr>\n",
       "      <th>1</th>\n",
       "      <td>yes</td>\n",
       "      <td>228</td>\n",
       "      <td>1</td>\n",
       "      <td>226</td>\n",
       "      <td>5</td>\n",
       "      <td>225</td>\n",
       "      <td>5</td>\n",
       "      <td>228</td>\n",
       "      <td>2</td>\n",
       "      <td>11</td>\n",
       "      <td>...</td>\n",
       "      <td>180</td>\n",
       "      <td>4</td>\n",
       "      <td>228</td>\n",
       "      <td>5</td>\n",
       "      <td>228</td>\n",
       "      <td>4</td>\n",
       "      <td>228</td>\n",
       "      <td>4</td>\n",
       "      <td>228</td>\n",
       "      <td>4</td>\n",
       "    </tr>\n",
       "  </tbody>\n",
       "</table>\n",
       "<p>2 rows × 21 columns</p>\n",
       "</div>"
      ],
      "text/plain": [
       "  infertile INFHELP         GENHEALT         BMIcat         EVRCANCER          \\\n",
       "              count nunique    count nunique  count nunique     count nunique   \n",
       "0        no    3578       1     3577       7   3259       5      3578       4   \n",
       "1       yes     228       1      226       5    225       5       228       2   \n",
       "\n",
       "  AGECANCER  ... HIGHBP         MOBILITY         SELFCARE         VISION  \\\n",
       "      count  ...  count nunique    count nunique    count nunique  count   \n",
       "0        57  ...   2382       5     3578       5     3578       6   3578   \n",
       "1        11  ...    180       4      228       5      228       4    228   \n",
       "\n",
       "          HEARING          \n",
       "  nunique   count nunique  \n",
       "0       6    3578       6  \n",
       "1       4     228       4  \n",
       "\n",
       "[2 rows x 21 columns]"
      ]
     },
     "execution_count": 218,
     "metadata": {},
     "output_type": "execute_result"
    }
   ],
   "source": [
    "df_infhelp.groupby('infertile', observed=True).agg({'INFHELP': ['count', 'nunique'],\n",
    "                                                    'GENHEALT': ['count', 'nunique'],\n",
    "                                                    'BMIcat': ['count', 'nunique'],\n",
    "                                                    'EVRCANCER': ['count', 'nunique'],\n",
    "                                                    'AGECANCER': ['count', 'nunique'],\n",
    "                                                    'HIGHBP': ['count', 'nunique'],\n",
    "                                                    'MOBILITY': ['count', 'nunique'],\n",
    "                                                    'SELFCARE': ['count', 'nunique'],\n",
    "                                                    'VISION': ['count', 'nunique'],\n",
    "                                                    'HEARING': ['count', 'nunique']}).reset_index()\n"
   ]
  },
  {
   "cell_type": "markdown",
   "id": "5b3933b0",
   "metadata": {},
   "source": [
    "graph overall health by infertility"
   ]
  },
  {
   "cell_type": "code",
   "execution_count": null,
   "id": "7127bddb",
   "metadata": {},
   "outputs": [
    {
     "data": {
      "text/plain": [
       "<matplotlib.legend.Legend at 0x23c7db2b890>"
      ]
     },
     "execution_count": 226,
     "metadata": {},
     "output_type": "execute_result"
    },
    {
     "data": {
      "image/png": "[encoded data removed]",
      "text/plain": [
       "<Figure size 640x480 with 1 Axes>"
      ]
     },
     "metadata": {},
     "output_type": "display_data"
    }
   ],
   "source": [
    "ax = sns.histplot(data=df_infhelp, x='GENHEALT', hue='infertile', stat='percent', multiple='dodge', discrete=True)\n",
    "ax.set_xticks(ticks=np.arange(1, 9))\n",
    "ax.set_xticklabels(['Excellent', 'Very good', 'Good', 'Fair', 'Poor', 'Refused', 'Do not know',\n",
    "                   'Not ascertained'], rotation=45, ha='right')\n",
    "plt.title('Distribution of Overall Health by Infertility Service Use')\n",
    "plt.ylabel('Percent of Respondents')\n",
    "plt.xlabel('Overall Health Rating')\n",
    "plt.legend(title='Infertile', loc='upper right', labels=['Yes', 'No'])"
   ]
  },
  {
   "cell_type": "markdown",
   "id": "d1bc2d08",
   "metadata": {},
   "source": [
    "Make body mass index (BMI) data human readable by defined BMI class description based on BMI-cat"
   ]
  },
  {
   "cell_type": "code",
   "execution_count": 245,
   "id": "da802edb",
   "metadata": {},
   "outputs": [
    {
     "data": {
      "text/plain": [
       "(3806, 56)"
      ]
     },
     "execution_count": 245,
     "metadata": {},
     "output_type": "execute_result"
    }
   ],
   "source": [
    "def BMI_class (x):\n",
    "    if x == 1.0:\n",
    "        return 'Underweight'\n",
    "    elif x == 2.0:\n",
    "        return 'Normal weight'\n",
    "    elif x == 3.0:\n",
    "        return 'Overweight'\n",
    "    elif x == 4.0:\n",
    "        return 'Obese'\n",
    "    elif x == 5.0:\n",
    "        return 'BMI undefinable'\n",
    "    else:\n",
    "        return 'BMI undefinable'\n",
    "df_infhelp['BMI_class'] = df_infhelp['BMIcat'].apply(BMI_class).reset_index(drop=True)\n",
    "df_infhelp.shape"
   ]
  },
  {
   "cell_type": "markdown",
   "id": "2448f79a",
   "metadata": {},
   "source": [
    "categorical plot of infertile status and general health by body mass index class (BMI_class)"
   ]
  },
  {
   "cell_type": "code",
   "execution_count": null,
   "id": "5bfd9e49",
   "metadata": {},
   "outputs": [
    {
     "data": {
      "text/plain": [
       "<seaborn.axisgrid.FacetGrid at 0x23c31f2d810>"
      ]
     },
     "execution_count": 267,
     "metadata": {},
     "output_type": "execute_result"
    },
    {
     "data": {
      "image/png": "[encoded data removed]",
      "text/plain": [
       "<Figure size 3073.88x400 with 5 Axes>"
      ]
     },
     "metadata": {},
     "output_type": "display_data"
    }
   ],
   "source": [
    "\n",
    "plt.figure_size=(3, 4)\n",
    "ax = sns.catplot(data=df_infhelp, x='GENHEALT', kind='count', stat='percent', hue='infertile', col='BMI_class',\n",
    "                height=4, aspect=1.5)\n",
    "\n",
    "x_labels = ['Excellent', 'Very good', 'Good', 'Fair', 'Poor', 'Refused', 'Do not know']\n",
    "ax.set_xticklabels(x_labels, rotation=45, ha='right')\n",
    "ax.figure.suptitle('Distribution of Male Infertility and Overall Health by BMI', y=1.08)\n",
    "ax.set_xlabels('Overall Health Rating')\n",
    "ax.set_ylabels('Percentage of Respondents')"
   ]
  },
  {
   "cell_type": "markdown",
   "id": "439ffc0f",
   "metadata": {},
   "source": [
    "Make cancer data human readable by defining ever had cancer classes as yes, no, or unknown based on EVRCANCER"
   ]
  },
  {
   "cell_type": "code",
   "execution_count": 270,
   "id": "574e056b",
   "metadata": {},
   "outputs": [
    {
     "data": {
      "text/plain": [
       "(3806, 59)"
      ]
     },
     "execution_count": 270,
     "metadata": {},
     "output_type": "execute_result"
    }
   ],
   "source": [
    "def cancer (x):\n",
    "    if x == 1.0:\n",
    "        return 'Positive'\n",
    "    elif x == 5.0:\n",
    "        return 'Negative'\n",
    "    elif x == 8.0:\n",
    "        return 'Unknown'\n",
    "    elif x == 9.0:\n",
    "        return 'Unknown'\n",
    "    else:\n",
    "        return 'Unknown'\n",
    "df_infhelp['cancer_history'] = df_infhelp['EVRCANCER'].apply(cancer).reset_index(drop=True)\n",
    "df_infhelp.shape"
   ]
  },
  {
   "cell_type": "markdown",
   "id": "8ed4f1cd",
   "metadata": {},
   "source": [
    "categorical plot of general health by infertility status and cancer class"
   ]
  },
  {
   "cell_type": "code",
   "execution_count": 280,
   "id": "ae37466c",
   "metadata": {},
   "outputs": [
    {
     "data": {
      "text/plain": [
       "<seaborn.axisgrid.FacetGrid at 0x23c437e8050>"
      ]
     },
     "execution_count": 280,
     "metadata": {},
     "output_type": "execute_result"
    },
    {
     "data": {
      "image/png": "[encoded data removed]",
      "text/plain": [
       "<Figure size 1873.88x400 with 3 Axes>"
      ]
     },
     "metadata": {},
     "output_type": "display_data"
    }
   ],
   "source": [
    "plt.figure_size=(3, 4)\n",
    "ax = sns.catplot(data=df_infhelp, x='GENHEALT', kind='count', stat='percent', hue='infertile', col='cancer_history',\n",
    "                height=4, aspect=1.5)\n",
    "\n",
    "x_labels = ['Excellent', 'Very good', 'Good', 'Fair', 'Poor', 'Refused', 'Do not know']\n",
    "ax.set_xticklabels(x_labels, rotation=45, ha='right')\n",
    "ax.figure.suptitle('Distribution of Male Infertility and Overall Health by Cancer History', y=1.08)\n",
    "ax.set_xlabels('Overall Health Rating')\n",
    "ax.set_ylabels('Percentage of Respondents')"
   ]
  },
  {
   "cell_type": "markdown",
   "id": "24990c64",
   "metadata": {},
   "source": [
    "The cancer history 'yes' results are difficult to see....return to make a plot using those data alone"
   ]
  },
  {
   "cell_type": "markdown",
   "id": "0db59ede",
   "metadata": {},
   "source": [
    "Make blood pressure data human readable by defining blood pressure classes (BP_class) as yes, no, or unknown based on HIGHBP"
   ]
  },
  {
   "cell_type": "code",
   "execution_count": 258,
   "id": "81856e54",
   "metadata": {},
   "outputs": [
    {
     "data": {
      "text/plain": [
       "(3806, 58)"
      ]
     },
     "execution_count": 258,
     "metadata": {},
     "output_type": "execute_result"
    }
   ],
   "source": [
    "def BP_class (x):\n",
    "    if x == 1.0:\n",
    "        return 'High BP'\n",
    "    elif x == 5.0:\n",
    "        return 'Normal BP'\n",
    "    elif x == 6.0:\n",
    "        return 'Unknown'\n",
    "    elif x == 8.0:\n",
    "        return 'Unknown'\n",
    "    elif x == 9.0:\n",
    "        return 'Unknown'\n",
    "    else:\n",
    "        return 'Unknown'\n",
    "df_infhelp['BP_class'] = df_infhelp['HIGHBP'].apply(BP_class).reset_index(drop=True)\n",
    "df_infhelp.shape"
   ]
  },
  {
   "cell_type": "markdown",
   "id": "078845d3",
   "metadata": {},
   "source": [
    "categorical plot of overall health and infertility by blood pressure"
   ]
  },
  {
   "cell_type": "code",
   "execution_count": 281,
   "id": "4f41b5bb",
   "metadata": {},
   "outputs": [
    {
     "data": {
      "text/plain": [
       "<seaborn.axisgrid.FacetGrid at 0x23c3e9d1810>"
      ]
     },
     "execution_count": 281,
     "metadata": {},
     "output_type": "execute_result"
    },
    {
     "data": {
      "image/png": "[encoded data removed]",
      "text/plain": [
       "<Figure size 1873.88x400 with 3 Axes>"
      ]
     },
     "metadata": {},
     "output_type": "display_data"
    }
   ],
   "source": [
    "plt.figure_size=(3, 4)\n",
    "ax = sns.catplot(data=df_infhelp, x='GENHEALT', kind='count', stat='percent', hue='infertile', col='BP_class',\n",
    "                height=4, aspect=1.5)\n",
    "\n",
    "x_labels = ['Excellent', 'Very good', 'Good', 'Fair', 'Poor', 'Refused', 'Do not know']\n",
    "ax.set_xticklabels(x_labels, rotation=45, ha='right')\n",
    "ax.figure.suptitle('Distribution of Male Infertility and Overall Health by Blood Pressure Class', y=1.08)\n",
    "ax.set_xlabels('Overall Health Rating')\n",
    "ax.set_ylabels('Percentage of Respondents')"
   ]
  },
  {
   "cell_type": "markdown",
   "id": "ebff2366",
   "metadata": {},
   "source": [
    "biological data analysis"
   ]
  },
  {
   "cell_type": "code",
   "execution_count": null,
   "id": "cd01e5fb",
   "metadata": {},
   "outputs": [],
   "source": []
  }
 ],
 "metadata": {
  "kernelspec": {
   "display_name": "Python 3",
   "language": "python",
   "name": "python3"
  },
  "language_info": {
   "codemirror_mode": {
    "name": "ipython",
    "version": 3
   },
   "file_extension": ".py",
   "mimetype": "text/x-python",
   "name": "python",
   "nbconvert_exporter": "python",
   "pygments_lexer": "ipython3",
   "version": "3.13.1"
  }
 },
 "nbformat": 4,
 "nbformat_minor": 5
}
